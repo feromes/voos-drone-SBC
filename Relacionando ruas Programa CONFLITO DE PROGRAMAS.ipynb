{
 "cells": [
  {
   "cell_type": "code",
   "execution_count": 1,
   "metadata": {},
   "outputs": [],
   "source": [
    "import geopandas as gpd\n",
    "import pandas as pd"
   ]
  },
  {
   "cell_type": "code",
   "execution_count": 2,
   "metadata": {},
   "outputs": [],
   "source": [
    "gdf_dxf = gpd.read_file('GIS/bases-DXF/Base - CONFLITO DE PROGRAMAS.dxf', encoding='ANSI_1252')"
   ]
  },
  {
   "cell_type": "code",
   "execution_count": 3,
   "metadata": {},
   "outputs": [],
   "source": [
    "# gdf_dxf2 = gpd.read_file('GIS/bases-DXF/Bairro dos Casa.dxf', encoding='ANSI_1252')"
   ]
  },
  {
   "cell_type": "code",
   "execution_count": 4,
   "metadata": {},
   "outputs": [],
   "source": [
    "# gdf_dxf2.loc[gdf_dxf2.Layer == 'MCT - PASSAGEM SANTOS DIAS DA SILVA', 'Layer'] = 'PASSAGEM SANTOS DIAS DA SILVA - DJI_0042'"
   ]
  },
  {
   "cell_type": "code",
   "execution_count": 5,
   "metadata": {},
   "outputs": [
    {
     "data": {
      "text/html": [
       "<div>\n",
       "<style scoped>\n",
       "    .dataframe tbody tr th:only-of-type {\n",
       "        vertical-align: middle;\n",
       "    }\n",
       "\n",
       "    .dataframe tbody tr th {\n",
       "        vertical-align: top;\n",
       "    }\n",
       "\n",
       "    .dataframe thead th {\n",
       "        text-align: right;\n",
       "    }\n",
       "</style>\n",
       "<table border=\"1\" class=\"dataframe\">\n",
       "  <thead>\n",
       "    <tr style=\"text-align: right;\">\n",
       "      <th></th>\n",
       "      <th>Layer</th>\n",
       "      <th>PaperSpace</th>\n",
       "      <th>SubClasses</th>\n",
       "      <th>Linetype</th>\n",
       "      <th>EntityHandle</th>\n",
       "      <th>Text</th>\n",
       "      <th>geometry</th>\n",
       "    </tr>\n",
       "  </thead>\n",
       "  <tbody>\n",
       "    <tr>\n",
       "      <th>0</th>\n",
       "      <td>RUA PASQUALE SCARANO - 12_12_20 - PASTA ETAPA ...</td>\n",
       "      <td>None</td>\n",
       "      <td>AcDbEntity:AcDb2dPolyline</td>\n",
       "      <td>Continuous</td>\n",
       "      <td>6F</td>\n",
       "      <td>None</td>\n",
       "      <td>LINESTRING Z (337753.229 7374267.099 0.000, 33...</td>\n",
       "    </tr>\n",
       "    <tr>\n",
       "      <th>1</th>\n",
       "      <td>MCT - RUA THELMA</td>\n",
       "      <td>None</td>\n",
       "      <td>AcDbEntity:AcDb2dPolyline</td>\n",
       "      <td>Continuous</td>\n",
       "      <td>75</td>\n",
       "      <td>None</td>\n",
       "      <td>LINESTRING Z (337862.023 7374372.934 0.000, 33...</td>\n",
       "    </tr>\n",
       "    <tr>\n",
       "      <th>2</th>\n",
       "      <td>MCT - VIELA 05</td>\n",
       "      <td>None</td>\n",
       "      <td>AcDbEntity:AcDb2dPolyline</td>\n",
       "      <td>Continuous</td>\n",
       "      <td>7B</td>\n",
       "      <td>None</td>\n",
       "      <td>LINESTRING Z (337732.971 7374345.007 0.000, 33...</td>\n",
       "    </tr>\n",
       "    <tr>\n",
       "      <th>3</th>\n",
       "      <td>MCT - VIELA 07</td>\n",
       "      <td>None</td>\n",
       "      <td>AcDbEntity:AcDb2dPolyline</td>\n",
       "      <td>Continuous</td>\n",
       "      <td>81</td>\n",
       "      <td>None</td>\n",
       "      <td>LINESTRING Z (337697.676 7374479.797 0.000, 33...</td>\n",
       "    </tr>\n",
       "    <tr>\n",
       "      <th>4</th>\n",
       "      <td>RUA EDGARD DE SOUZA - 12_12_20 - PASTA ETAPA 0...</td>\n",
       "      <td>None</td>\n",
       "      <td>AcDbEntity:AcDb2dPolyline</td>\n",
       "      <td>Continuous</td>\n",
       "      <td>87</td>\n",
       "      <td>None</td>\n",
       "      <td>LINESTRING Z (337787.743 7374082.512 0.000, 33...</td>\n",
       "    </tr>\n",
       "    <tr>\n",
       "      <th>...</th>\n",
       "      <td>...</td>\n",
       "      <td>...</td>\n",
       "      <td>...</td>\n",
       "      <td>...</td>\n",
       "      <td>...</td>\n",
       "      <td>...</td>\n",
       "      <td>...</td>\n",
       "    </tr>\n",
       "    <tr>\n",
       "      <th>76</th>\n",
       "      <td>RUA NORA ASTORGA - 11_12_20 - DJI_0015 - DJI_0016</td>\n",
       "      <td>None</td>\n",
       "      <td>AcDbEntity:AcDbLine</td>\n",
       "      <td>Continuous</td>\n",
       "      <td>153</td>\n",
       "      <td>None</td>\n",
       "      <td>LINESTRING Z (336665.680 7371622.573 0.000, 33...</td>\n",
       "    </tr>\n",
       "    <tr>\n",
       "      <th>77</th>\n",
       "      <td>RUA NORA ASTORGA - 11_12_20 - DJI_0015 - DJI_0016</td>\n",
       "      <td>None</td>\n",
       "      <td>AcDbEntity:AcDbLine</td>\n",
       "      <td>Continuous</td>\n",
       "      <td>154</td>\n",
       "      <td>None</td>\n",
       "      <td>LINESTRING Z (336658.803 7371626.056 0.000, 33...</td>\n",
       "    </tr>\n",
       "    <tr>\n",
       "      <th>78</th>\n",
       "      <td>RUA NORA ASTORGA - 11_12_20 - DJI_0015 - DJI_0016</td>\n",
       "      <td>None</td>\n",
       "      <td>AcDbEntity:AcDbLine</td>\n",
       "      <td>Continuous</td>\n",
       "      <td>155</td>\n",
       "      <td>None</td>\n",
       "      <td>LINESTRING Z (336651.172 7371628.692 0.000, 33...</td>\n",
       "    </tr>\n",
       "    <tr>\n",
       "      <th>79</th>\n",
       "      <td>RUA NORA ASTORGA - 11_12_20 - DJI_0015 - DJI_0016</td>\n",
       "      <td>None</td>\n",
       "      <td>AcDbEntity:AcDbLine</td>\n",
       "      <td>Continuous</td>\n",
       "      <td>156</td>\n",
       "      <td>None</td>\n",
       "      <td>LINESTRING Z (336620.459 7371635.188 0.000, 33...</td>\n",
       "    </tr>\n",
       "    <tr>\n",
       "      <th>80</th>\n",
       "      <td>RUA NORA ASTORGA - 11_12_20 - DJI_0015 - DJI_0016</td>\n",
       "      <td>None</td>\n",
       "      <td>AcDbEntity:AcDbLine</td>\n",
       "      <td>Continuous</td>\n",
       "      <td>157</td>\n",
       "      <td>None</td>\n",
       "      <td>LINESTRING Z (336606.328 7371637.635 0.000, 33...</td>\n",
       "    </tr>\n",
       "  </tbody>\n",
       "</table>\n",
       "<p>81 rows × 7 columns</p>\n",
       "</div>"
      ],
      "text/plain": [
       "                                                Layer PaperSpace  \\\n",
       "0   RUA PASQUALE SCARANO - 12_12_20 - PASTA ETAPA ...       None   \n",
       "1                                    MCT - RUA THELMA       None   \n",
       "2                                      MCT - VIELA 05       None   \n",
       "3                                      MCT - VIELA 07       None   \n",
       "4   RUA EDGARD DE SOUZA - 12_12_20 - PASTA ETAPA 0...       None   \n",
       "..                                                ...        ...   \n",
       "76  RUA NORA ASTORGA - 11_12_20 - DJI_0015 - DJI_0016       None   \n",
       "77  RUA NORA ASTORGA - 11_12_20 - DJI_0015 - DJI_0016       None   \n",
       "78  RUA NORA ASTORGA - 11_12_20 - DJI_0015 - DJI_0016       None   \n",
       "79  RUA NORA ASTORGA - 11_12_20 - DJI_0015 - DJI_0016       None   \n",
       "80  RUA NORA ASTORGA - 11_12_20 - DJI_0015 - DJI_0016       None   \n",
       "\n",
       "                   SubClasses    Linetype EntityHandle  Text  \\\n",
       "0   AcDbEntity:AcDb2dPolyline  Continuous           6F  None   \n",
       "1   AcDbEntity:AcDb2dPolyline  Continuous           75  None   \n",
       "2   AcDbEntity:AcDb2dPolyline  Continuous           7B  None   \n",
       "3   AcDbEntity:AcDb2dPolyline  Continuous           81  None   \n",
       "4   AcDbEntity:AcDb2dPolyline  Continuous           87  None   \n",
       "..                        ...         ...          ...   ...   \n",
       "76        AcDbEntity:AcDbLine  Continuous          153  None   \n",
       "77        AcDbEntity:AcDbLine  Continuous          154  None   \n",
       "78        AcDbEntity:AcDbLine  Continuous          155  None   \n",
       "79        AcDbEntity:AcDbLine  Continuous          156  None   \n",
       "80        AcDbEntity:AcDbLine  Continuous          157  None   \n",
       "\n",
       "                                             geometry  \n",
       "0   LINESTRING Z (337753.229 7374267.099 0.000, 33...  \n",
       "1   LINESTRING Z (337862.023 7374372.934 0.000, 33...  \n",
       "2   LINESTRING Z (337732.971 7374345.007 0.000, 33...  \n",
       "3   LINESTRING Z (337697.676 7374479.797 0.000, 33...  \n",
       "4   LINESTRING Z (337787.743 7374082.512 0.000, 33...  \n",
       "..                                                ...  \n",
       "76  LINESTRING Z (336665.680 7371622.573 0.000, 33...  \n",
       "77  LINESTRING Z (336658.803 7371626.056 0.000, 33...  \n",
       "78  LINESTRING Z (336651.172 7371628.692 0.000, 33...  \n",
       "79  LINESTRING Z (336620.459 7371635.188 0.000, 33...  \n",
       "80  LINESTRING Z (336606.328 7371637.635 0.000, 33...  \n",
       "\n",
       "[81 rows x 7 columns]"
      ]
     },
     "execution_count": 5,
     "metadata": {},
     "output_type": "execute_result"
    }
   ],
   "source": [
    "gdf_dxf"
   ]
  },
  {
   "cell_type": "code",
   "execution_count": 6,
   "metadata": {},
   "outputs": [],
   "source": [
    "# gdf_dxf = gpd.GeoDataFrame(pd.concat([gdf_dxf, gdf_dxf2]).reset_index().drop('index', axis=1))"
   ]
  },
  {
   "cell_type": "code",
   "execution_count": 7,
   "metadata": {},
   "outputs": [
    {
     "data": {
      "text/plain": [
       "<AxesSubplot:>"
      ]
     },
     "execution_count": 7,
     "metadata": {},
     "output_type": "execute_result"
    },
    {
     "data": {
      "image/png": "[encoded data removed]",
      "text/plain": [
       "<Figure size 432x288 with 1 Axes>"
      ]
     },
     "metadata": {
      "needs_background": "light"
     },
     "output_type": "display_data"
    }
   ],
   "source": [
    "gdf_dxf.plot()"
   ]
  },
  {
   "cell_type": "code",
   "execution_count": 8,
   "metadata": {},
   "outputs": [],
   "source": [
    "gdf_dxf['Layer'] = gdf_dxf.Layer.str.encode(encoding='raw_unicode_escape').str.decode(encoding='utf-8').str.replace('MCT - ', '')"
   ]
  },
  {
   "cell_type": "code",
   "execution_count": 9,
   "metadata": {},
   "outputs": [],
   "source": [
    "gdf_dxf['Layer'] = gdf_dxf.Layer.str.replace('MCT -', '')"
   ]
  },
  {
   "cell_type": "code",
   "execution_count": 10,
   "metadata": {},
   "outputs": [],
   "source": [
    "gdf_dxf['lista'] = gdf_dxf.Layer.str.split(' - ')"
   ]
  },
  {
   "cell_type": "code",
   "execution_count": 11,
   "metadata": {},
   "outputs": [],
   "source": [
    "gdf_dxf['DJI'] = gdf_dxf.Layer.str.findall('DJI_[0-9]{4}')"
   ]
  },
  {
   "cell_type": "code",
   "execution_count": 12,
   "metadata": {},
   "outputs": [],
   "source": [
    "gdf_dxf['etapa'] = gdf_dxf.Layer.str.extract('(ETAPA [0-9]{1,2})')"
   ]
  },
  {
   "cell_type": "code",
   "execution_count": 13,
   "metadata": {},
   "outputs": [],
   "source": [
    "gdf_dxf['data_voo'] = gdf_dxf.Layer.str.extract('([0-9]{1,2}_[0-9]{2}_[0-9]{2})')"
   ]
  },
  {
   "cell_type": "code",
   "execution_count": 14,
   "metadata": {},
   "outputs": [],
   "source": [
    "gdf_dxf['logradouro'] = gdf_dxf.lista.apply(lambda x: x[0])"
   ]
  },
  {
   "cell_type": "code",
   "execution_count": 15,
   "metadata": {},
   "outputs": [
    {
     "data": {
      "text/html": [
       "<div>\n",
       "<style scoped>\n",
       "    .dataframe tbody tr th:only-of-type {\n",
       "        vertical-align: middle;\n",
       "    }\n",
       "\n",
       "    .dataframe tbody tr th {\n",
       "        vertical-align: top;\n",
       "    }\n",
       "\n",
       "    .dataframe thead th {\n",
       "        text-align: right;\n",
       "    }\n",
       "</style>\n",
       "<table border=\"1\" class=\"dataframe\">\n",
       "  <thead>\n",
       "    <tr style=\"text-align: right;\">\n",
       "      <th></th>\n",
       "      <th>Layer</th>\n",
       "      <th>PaperSpace</th>\n",
       "      <th>SubClasses</th>\n",
       "      <th>Linetype</th>\n",
       "      <th>EntityHandle</th>\n",
       "      <th>Text</th>\n",
       "      <th>geometry</th>\n",
       "      <th>lista</th>\n",
       "      <th>DJI</th>\n",
       "      <th>etapa</th>\n",
       "      <th>data_voo</th>\n",
       "      <th>logradouro</th>\n",
       "    </tr>\n",
       "  </thead>\n",
       "  <tbody>\n",
       "    <tr>\n",
       "      <th>0</th>\n",
       "      <td>RUA PASQUALE SCARANO - 12_12_20 - PASTA ETAPA ...</td>\n",
       "      <td>None</td>\n",
       "      <td>AcDbEntity:AcDb2dPolyline</td>\n",
       "      <td>Continuous</td>\n",
       "      <td>6F</td>\n",
       "      <td>None</td>\n",
       "      <td>LINESTRING Z (337753.229 7374267.099 0.000, 33...</td>\n",
       "      <td>[RUA PASQUALE SCARANO, 12_12_20, PASTA ETAPA 0...</td>\n",
       "      <td>[DJI_0056]</td>\n",
       "      <td>ETAPA 01</td>\n",
       "      <td>12_12_20</td>\n",
       "      <td>RUA PASQUALE SCARANO</td>\n",
       "    </tr>\n",
       "    <tr>\n",
       "      <th>1</th>\n",
       "      <td>RUA THELMA</td>\n",
       "      <td>None</td>\n",
       "      <td>AcDbEntity:AcDb2dPolyline</td>\n",
       "      <td>Continuous</td>\n",
       "      <td>75</td>\n",
       "      <td>None</td>\n",
       "      <td>LINESTRING Z (337862.023 7374372.934 0.000, 33...</td>\n",
       "      <td>[RUA THELMA]</td>\n",
       "      <td>[]</td>\n",
       "      <td>NaN</td>\n",
       "      <td>NaN</td>\n",
       "      <td>RUA THELMA</td>\n",
       "    </tr>\n",
       "    <tr>\n",
       "      <th>2</th>\n",
       "      <td>VIELA 05</td>\n",
       "      <td>None</td>\n",
       "      <td>AcDbEntity:AcDb2dPolyline</td>\n",
       "      <td>Continuous</td>\n",
       "      <td>7B</td>\n",
       "      <td>None</td>\n",
       "      <td>LINESTRING Z (337732.971 7374345.007 0.000, 33...</td>\n",
       "      <td>[VIELA 05]</td>\n",
       "      <td>[]</td>\n",
       "      <td>NaN</td>\n",
       "      <td>NaN</td>\n",
       "      <td>VIELA 05</td>\n",
       "    </tr>\n",
       "    <tr>\n",
       "      <th>3</th>\n",
       "      <td>VIELA 07</td>\n",
       "      <td>None</td>\n",
       "      <td>AcDbEntity:AcDb2dPolyline</td>\n",
       "      <td>Continuous</td>\n",
       "      <td>81</td>\n",
       "      <td>None</td>\n",
       "      <td>LINESTRING Z (337697.676 7374479.797 0.000, 33...</td>\n",
       "      <td>[VIELA 07]</td>\n",
       "      <td>[]</td>\n",
       "      <td>NaN</td>\n",
       "      <td>NaN</td>\n",
       "      <td>VIELA 07</td>\n",
       "    </tr>\n",
       "    <tr>\n",
       "      <th>4</th>\n",
       "      <td>RUA EDGARD DE SOUZA - 12_12_20 - PASTA ETAPA 0...</td>\n",
       "      <td>None</td>\n",
       "      <td>AcDbEntity:AcDb2dPolyline</td>\n",
       "      <td>Continuous</td>\n",
       "      <td>87</td>\n",
       "      <td>None</td>\n",
       "      <td>LINESTRING Z (337787.743 7374082.512 0.000, 33...</td>\n",
       "      <td>[RUA EDGARD DE SOUZA, 12_12_20, PASTA ETAPA 01...</td>\n",
       "      <td>[DJI_0059]</td>\n",
       "      <td>ETAPA 01</td>\n",
       "      <td>12_12_20</td>\n",
       "      <td>RUA EDGARD DE SOUZA</td>\n",
       "    </tr>\n",
       "    <tr>\n",
       "      <th>...</th>\n",
       "      <td>...</td>\n",
       "      <td>...</td>\n",
       "      <td>...</td>\n",
       "      <td>...</td>\n",
       "      <td>...</td>\n",
       "      <td>...</td>\n",
       "      <td>...</td>\n",
       "      <td>...</td>\n",
       "      <td>...</td>\n",
       "      <td>...</td>\n",
       "      <td>...</td>\n",
       "      <td>...</td>\n",
       "    </tr>\n",
       "    <tr>\n",
       "      <th>76</th>\n",
       "      <td>RUA NORA ASTORGA - 11_12_20 - DJI_0015 - DJI_0016</td>\n",
       "      <td>None</td>\n",
       "      <td>AcDbEntity:AcDbLine</td>\n",
       "      <td>Continuous</td>\n",
       "      <td>153</td>\n",
       "      <td>None</td>\n",
       "      <td>LINESTRING Z (336665.680 7371622.573 0.000, 33...</td>\n",
       "      <td>[RUA NORA ASTORGA, 11_12_20, DJI_0015, DJI_0016]</td>\n",
       "      <td>[DJI_0015, DJI_0016]</td>\n",
       "      <td>NaN</td>\n",
       "      <td>11_12_20</td>\n",
       "      <td>RUA NORA ASTORGA</td>\n",
       "    </tr>\n",
       "    <tr>\n",
       "      <th>77</th>\n",
       "      <td>RUA NORA ASTORGA - 11_12_20 - DJI_0015 - DJI_0016</td>\n",
       "      <td>None</td>\n",
       "      <td>AcDbEntity:AcDbLine</td>\n",
       "      <td>Continuous</td>\n",
       "      <td>154</td>\n",
       "      <td>None</td>\n",
       "      <td>LINESTRING Z (336658.803 7371626.056 0.000, 33...</td>\n",
       "      <td>[RUA NORA ASTORGA, 11_12_20, DJI_0015, DJI_0016]</td>\n",
       "      <td>[DJI_0015, DJI_0016]</td>\n",
       "      <td>NaN</td>\n",
       "      <td>11_12_20</td>\n",
       "      <td>RUA NORA ASTORGA</td>\n",
       "    </tr>\n",
       "    <tr>\n",
       "      <th>78</th>\n",
       "      <td>RUA NORA ASTORGA - 11_12_20 - DJI_0015 - DJI_0016</td>\n",
       "      <td>None</td>\n",
       "      <td>AcDbEntity:AcDbLine</td>\n",
       "      <td>Continuous</td>\n",
       "      <td>155</td>\n",
       "      <td>None</td>\n",
       "      <td>LINESTRING Z (336651.172 7371628.692 0.000, 33...</td>\n",
       "      <td>[RUA NORA ASTORGA, 11_12_20, DJI_0015, DJI_0016]</td>\n",
       "      <td>[DJI_0015, DJI_0016]</td>\n",
       "      <td>NaN</td>\n",
       "      <td>11_12_20</td>\n",
       "      <td>RUA NORA ASTORGA</td>\n",
       "    </tr>\n",
       "    <tr>\n",
       "      <th>79</th>\n",
       "      <td>RUA NORA ASTORGA - 11_12_20 - DJI_0015 - DJI_0016</td>\n",
       "      <td>None</td>\n",
       "      <td>AcDbEntity:AcDbLine</td>\n",
       "      <td>Continuous</td>\n",
       "      <td>156</td>\n",
       "      <td>None</td>\n",
       "      <td>LINESTRING Z (336620.459 7371635.188 0.000, 33...</td>\n",
       "      <td>[RUA NORA ASTORGA, 11_12_20, DJI_0015, DJI_0016]</td>\n",
       "      <td>[DJI_0015, DJI_0016]</td>\n",
       "      <td>NaN</td>\n",
       "      <td>11_12_20</td>\n",
       "      <td>RUA NORA ASTORGA</td>\n",
       "    </tr>\n",
       "    <tr>\n",
       "      <th>80</th>\n",
       "      <td>RUA NORA ASTORGA - 11_12_20 - DJI_0015 - DJI_0016</td>\n",
       "      <td>None</td>\n",
       "      <td>AcDbEntity:AcDbLine</td>\n",
       "      <td>Continuous</td>\n",
       "      <td>157</td>\n",
       "      <td>None</td>\n",
       "      <td>LINESTRING Z (336606.328 7371637.635 0.000, 33...</td>\n",
       "      <td>[RUA NORA ASTORGA, 11_12_20, DJI_0015, DJI_0016]</td>\n",
       "      <td>[DJI_0015, DJI_0016]</td>\n",
       "      <td>NaN</td>\n",
       "      <td>11_12_20</td>\n",
       "      <td>RUA NORA ASTORGA</td>\n",
       "    </tr>\n",
       "  </tbody>\n",
       "</table>\n",
       "<p>81 rows × 12 columns</p>\n",
       "</div>"
      ],
      "text/plain": [
       "                                                Layer PaperSpace  \\\n",
       "0   RUA PASQUALE SCARANO - 12_12_20 - PASTA ETAPA ...       None   \n",
       "1                                          RUA THELMA       None   \n",
       "2                                            VIELA 05       None   \n",
       "3                                            VIELA 07       None   \n",
       "4   RUA EDGARD DE SOUZA - 12_12_20 - PASTA ETAPA 0...       None   \n",
       "..                                                ...        ...   \n",
       "76  RUA NORA ASTORGA - 11_12_20 - DJI_0015 - DJI_0016       None   \n",
       "77  RUA NORA ASTORGA - 11_12_20 - DJI_0015 - DJI_0016       None   \n",
       "78  RUA NORA ASTORGA - 11_12_20 - DJI_0015 - DJI_0016       None   \n",
       "79  RUA NORA ASTORGA - 11_12_20 - DJI_0015 - DJI_0016       None   \n",
       "80  RUA NORA ASTORGA - 11_12_20 - DJI_0015 - DJI_0016       None   \n",
       "\n",
       "                   SubClasses    Linetype EntityHandle  Text  \\\n",
       "0   AcDbEntity:AcDb2dPolyline  Continuous           6F  None   \n",
       "1   AcDbEntity:AcDb2dPolyline  Continuous           75  None   \n",
       "2   AcDbEntity:AcDb2dPolyline  Continuous           7B  None   \n",
       "3   AcDbEntity:AcDb2dPolyline  Continuous           81  None   \n",
       "4   AcDbEntity:AcDb2dPolyline  Continuous           87  None   \n",
       "..                        ...         ...          ...   ...   \n",
       "76        AcDbEntity:AcDbLine  Continuous          153  None   \n",
       "77        AcDbEntity:AcDbLine  Continuous          154  None   \n",
       "78        AcDbEntity:AcDbLine  Continuous          155  None   \n",
       "79        AcDbEntity:AcDbLine  Continuous          156  None   \n",
       "80        AcDbEntity:AcDbLine  Continuous          157  None   \n",
       "\n",
       "                                             geometry  \\\n",
       "0   LINESTRING Z (337753.229 7374267.099 0.000, 33...   \n",
       "1   LINESTRING Z (337862.023 7374372.934 0.000, 33...   \n",
       "2   LINESTRING Z (337732.971 7374345.007 0.000, 33...   \n",
       "3   LINESTRING Z (337697.676 7374479.797 0.000, 33...   \n",
       "4   LINESTRING Z (337787.743 7374082.512 0.000, 33...   \n",
       "..                                                ...   \n",
       "76  LINESTRING Z (336665.680 7371622.573 0.000, 33...   \n",
       "77  LINESTRING Z (336658.803 7371626.056 0.000, 33...   \n",
       "78  LINESTRING Z (336651.172 7371628.692 0.000, 33...   \n",
       "79  LINESTRING Z (336620.459 7371635.188 0.000, 33...   \n",
       "80  LINESTRING Z (336606.328 7371637.635 0.000, 33...   \n",
       "\n",
       "                                                lista                   DJI  \\\n",
       "0   [RUA PASQUALE SCARANO, 12_12_20, PASTA ETAPA 0...            [DJI_0056]   \n",
       "1                                        [RUA THELMA]                    []   \n",
       "2                                          [VIELA 05]                    []   \n",
       "3                                          [VIELA 07]                    []   \n",
       "4   [RUA EDGARD DE SOUZA, 12_12_20, PASTA ETAPA 01...            [DJI_0059]   \n",
       "..                                                ...                   ...   \n",
       "76   [RUA NORA ASTORGA, 11_12_20, DJI_0015, DJI_0016]  [DJI_0015, DJI_0016]   \n",
       "77   [RUA NORA ASTORGA, 11_12_20, DJI_0015, DJI_0016]  [DJI_0015, DJI_0016]   \n",
       "78   [RUA NORA ASTORGA, 11_12_20, DJI_0015, DJI_0016]  [DJI_0015, DJI_0016]   \n",
       "79   [RUA NORA ASTORGA, 11_12_20, DJI_0015, DJI_0016]  [DJI_0015, DJI_0016]   \n",
       "80   [RUA NORA ASTORGA, 11_12_20, DJI_0015, DJI_0016]  [DJI_0015, DJI_0016]   \n",
       "\n",
       "       etapa  data_voo            logradouro  \n",
       "0   ETAPA 01  12_12_20  RUA PASQUALE SCARANO  \n",
       "1        NaN       NaN            RUA THELMA  \n",
       "2        NaN       NaN              VIELA 05  \n",
       "3        NaN       NaN              VIELA 07  \n",
       "4   ETAPA 01  12_12_20   RUA EDGARD DE SOUZA  \n",
       "..       ...       ...                   ...  \n",
       "76       NaN  11_12_20      RUA NORA ASTORGA  \n",
       "77       NaN  11_12_20      RUA NORA ASTORGA  \n",
       "78       NaN  11_12_20      RUA NORA ASTORGA  \n",
       "79       NaN  11_12_20      RUA NORA ASTORGA  \n",
       "80       NaN  11_12_20      RUA NORA ASTORGA  \n",
       "\n",
       "[81 rows x 12 columns]"
      ]
     },
     "execution_count": 15,
     "metadata": {},
     "output_type": "execute_result"
    }
   ],
   "source": [
    "gdf_dxf"
   ]
  },
  {
   "cell_type": "code",
   "execution_count": 16,
   "metadata": {},
   "outputs": [],
   "source": [
    "pd_videos = pd.DataFrame(list(map(lambda x: \n",
    "         list(map(lambda y: y + '.MOV', x))\n",
    "         , gdf_dxf.DJI))).add_prefix('Video_')"
   ]
  },
  {
   "cell_type": "code",
   "execution_count": 17,
   "metadata": {},
   "outputs": [
    {
     "data": {
      "text/html": [
       "<div>\n",
       "<style scoped>\n",
       "    .dataframe tbody tr th:only-of-type {\n",
       "        vertical-align: middle;\n",
       "    }\n",
       "\n",
       "    .dataframe tbody tr th {\n",
       "        vertical-align: top;\n",
       "    }\n",
       "\n",
       "    .dataframe thead th {\n",
       "        text-align: right;\n",
       "    }\n",
       "</style>\n",
       "<table border=\"1\" class=\"dataframe\">\n",
       "  <thead>\n",
       "    <tr style=\"text-align: right;\">\n",
       "      <th></th>\n",
       "      <th>Video_0</th>\n",
       "      <th>Video_1</th>\n",
       "    </tr>\n",
       "  </thead>\n",
       "  <tbody>\n",
       "    <tr>\n",
       "      <th>0</th>\n",
       "      <td>DJI_0056.MOV</td>\n",
       "      <td>None</td>\n",
       "    </tr>\n",
       "    <tr>\n",
       "      <th>1</th>\n",
       "      <td>None</td>\n",
       "      <td>None</td>\n",
       "    </tr>\n",
       "    <tr>\n",
       "      <th>2</th>\n",
       "      <td>None</td>\n",
       "      <td>None</td>\n",
       "    </tr>\n",
       "    <tr>\n",
       "      <th>3</th>\n",
       "      <td>None</td>\n",
       "      <td>None</td>\n",
       "    </tr>\n",
       "    <tr>\n",
       "      <th>4</th>\n",
       "      <td>DJI_0059.MOV</td>\n",
       "      <td>None</td>\n",
       "    </tr>\n",
       "    <tr>\n",
       "      <th>...</th>\n",
       "      <td>...</td>\n",
       "      <td>...</td>\n",
       "    </tr>\n",
       "    <tr>\n",
       "      <th>76</th>\n",
       "      <td>DJI_0015.MOV</td>\n",
       "      <td>DJI_0016.MOV</td>\n",
       "    </tr>\n",
       "    <tr>\n",
       "      <th>77</th>\n",
       "      <td>DJI_0015.MOV</td>\n",
       "      <td>DJI_0016.MOV</td>\n",
       "    </tr>\n",
       "    <tr>\n",
       "      <th>78</th>\n",
       "      <td>DJI_0015.MOV</td>\n",
       "      <td>DJI_0016.MOV</td>\n",
       "    </tr>\n",
       "    <tr>\n",
       "      <th>79</th>\n",
       "      <td>DJI_0015.MOV</td>\n",
       "      <td>DJI_0016.MOV</td>\n",
       "    </tr>\n",
       "    <tr>\n",
       "      <th>80</th>\n",
       "      <td>DJI_0015.MOV</td>\n",
       "      <td>DJI_0016.MOV</td>\n",
       "    </tr>\n",
       "  </tbody>\n",
       "</table>\n",
       "<p>81 rows × 2 columns</p>\n",
       "</div>"
      ],
      "text/plain": [
       "         Video_0       Video_1\n",
       "0   DJI_0056.MOV          None\n",
       "1           None          None\n",
       "2           None          None\n",
       "3           None          None\n",
       "4   DJI_0059.MOV          None\n",
       "..           ...           ...\n",
       "76  DJI_0015.MOV  DJI_0016.MOV\n",
       "77  DJI_0015.MOV  DJI_0016.MOV\n",
       "78  DJI_0015.MOV  DJI_0016.MOV\n",
       "79  DJI_0015.MOV  DJI_0016.MOV\n",
       "80  DJI_0015.MOV  DJI_0016.MOV\n",
       "\n",
       "[81 rows x 2 columns]"
      ]
     },
     "execution_count": 17,
     "metadata": {},
     "output_type": "execute_result"
    }
   ],
   "source": [
    "pd_videos"
   ]
  },
  {
   "cell_type": "code",
   "execution_count": 18,
   "metadata": {},
   "outputs": [],
   "source": [
    "gdf_dxf = gdf_dxf.merge(pd_videos, left_index=True, right_index=True)"
   ]
  },
  {
   "cell_type": "code",
   "execution_count": 19,
   "metadata": {},
   "outputs": [
    {
     "data": {
      "text/plain": [
       "Index(['Layer', 'PaperSpace', 'SubClasses', 'Linetype', 'EntityHandle', 'Text',\n",
       "       'geometry', 'lista', 'DJI', 'etapa', 'data_voo', 'logradouro',\n",
       "       'Video_0', 'Video_1'],\n",
       "      dtype='object')"
      ]
     },
     "execution_count": 19,
     "metadata": {},
     "output_type": "execute_result"
    }
   ],
   "source": [
    "gdf_dxf.columns"
   ]
  },
  {
   "cell_type": "code",
   "execution_count": 20,
   "metadata": {},
   "outputs": [],
   "source": [
    "gdf_dxf.loc[gdf_dxf.etapa.isna(), 'etapa'] = ''"
   ]
  },
  {
   "cell_type": "code",
   "execution_count": 21,
   "metadata": {},
   "outputs": [],
   "source": [
    "gdf_dxf.etapa = gdf_dxf.etapa.str.replace(' ', '_')"
   ]
  },
  {
   "cell_type": "code",
   "execution_count": 22,
   "metadata": {},
   "outputs": [],
   "source": [
    "gdf_dxf.loc[gdf_dxf.etapa != '', 'etapa'] += '/'"
   ]
  },
  {
   "cell_type": "code",
   "execution_count": 23,
   "metadata": {},
   "outputs": [],
   "source": [
    "gdf_dxf.loc[~gdf_dxf.data_voo.isna(), 'data_voo'] += '/'"
   ]
  },
  {
   "cell_type": "code",
   "execution_count": 24,
   "metadata": {},
   "outputs": [],
   "source": [
    "for c in gdf_dxf.loc[:, gdf_dxf.columns.str.startswith('Video')].columns:\n",
    "    gdf_dxf[c + '_path'] = 'videos/' + gdf_dxf.data_voo + gdf_dxf.etapa + gdf_dxf[c]"
   ]
  },
  {
   "cell_type": "code",
   "execution_count": 25,
   "metadata": {},
   "outputs": [],
   "source": [
    "gdf_dxf = gdf_dxf.dissolve(by=['Layer'], aggfunc='first').reset_index()"
   ]
  },
  {
   "cell_type": "code",
   "execution_count": 26,
   "metadata": {},
   "outputs": [],
   "source": [
    "gdf_dxf.crs = 'epsg:31983'"
   ]
  },
  {
   "cell_type": "code",
   "execution_count": 29,
   "metadata": {},
   "outputs": [],
   "source": [
    "gdf_dxf.drop(['Layer', 'PaperSpace', 'SubClasses', 'Linetype', 'EntityHandle', 'Text', 'DJI', 'lista'], axis=1).to_file('./videos/ruas-videos-CONFLITO-DE-PROGRAMAS.gpkg', driver='GPKG')"
   ]
  },
  {
   "cell_type": "code",
   "execution_count": 30,
   "metadata": {},
   "outputs": [
    {
     "data": {
      "text/plain": [
       "Layer             object\n",
       "geometry        geometry\n",
       "PaperSpace        object\n",
       "SubClasses        object\n",
       "Linetype          object\n",
       "EntityHandle      object\n",
       "Text              object\n",
       "lista             object\n",
       "DJI               object\n",
       "etapa             object\n",
       "data_voo          object\n",
       "logradouro        object\n",
       "Video_0           object\n",
       "Video_1           object\n",
       "Video_0_path      object\n",
       "Video_1_path      object\n",
       "dtype: object"
      ]
     },
     "execution_count": 30,
     "metadata": {},
     "output_type": "execute_result"
    }
   ],
   "source": [
    "gdf_dxf.dtypes"
   ]
  },
  {
   "cell_type": "code",
   "execution_count": null,
   "metadata": {},
   "outputs": [],
   "source": []
  },
  {
   "cell_type": "code",
   "execution_count": null,
   "metadata": {},
   "outputs": [],
   "source": []
  }
 ],
 "metadata": {
  "kernelspec": {
   "display_name": "Python 3",
   "language": "python",
   "name": "python3"
  },
  "language_info": {
   "codemirror_mode": {
    "name": "ipython",
    "version": 3
   },
   "file_extension": ".py",
   "mimetype": "text/x-python",
   "name": "python",
   "nbconvert_exporter": "python",
   "pygments_lexer": "ipython3",
   "version": "3.8.3"
  }
 },
 "nbformat": 4,
 "nbformat_minor": 4
}
