{
 "cells": [
  {
   "cell_type": "code",
   "execution_count": 75,
   "metadata": {},
   "outputs": [],
   "source": [
    "import geopandas as gpd\n",
    "import pandas as pd"
   ]
  },
  {
   "cell_type": "code",
   "execution_count": 76,
   "metadata": {},
   "outputs": [],
   "source": [
    "gdf_dxf = gpd.read_file('GIS/bases-DXF/Bairro Jardim Pinheiros.dxf', encoding='ANSI_1252')"
   ]
  },
  {
   "cell_type": "code",
   "execution_count": 77,
   "metadata": {},
   "outputs": [],
   "source": [
    "gdf_dxf2 = gpd.read_file('GIS/bases-DXF/Bairro dos Casa.dxf', encoding='ANSI_1252')"
   ]
  },
  {
   "cell_type": "code",
   "execution_count": 78,
   "metadata": {},
   "outputs": [],
   "source": [
    "gdf_dxf2.loc[gdf_dxf2.Layer == 'MCT - PASSAGEM SANTOS DIAS DA SILVA', 'Layer'] = 'PASSAGEM SANTOS DIAS DA SILVA - DJI_0042'"
   ]
  },
  {
   "cell_type": "code",
   "execution_count": 79,
   "metadata": {},
   "outputs": [
    {
     "data": {
      "text/html": [
       "<div>\n",
       "<style scoped>\n",
       "    .dataframe tbody tr th:only-of-type {\n",
       "        vertical-align: middle;\n",
       "    }\n",
       "\n",
       "    .dataframe tbody tr th {\n",
       "        vertical-align: top;\n",
       "    }\n",
       "\n",
       "    .dataframe thead th {\n",
       "        text-align: right;\n",
       "    }\n",
       "</style>\n",
       "<table border=\"1\" class=\"dataframe\">\n",
       "  <thead>\n",
       "    <tr style=\"text-align: right;\">\n",
       "      <th></th>\n",
       "      <th>Layer</th>\n",
       "      <th>PaperSpace</th>\n",
       "      <th>SubClasses</th>\n",
       "      <th>Linetype</th>\n",
       "      <th>EntityHandle</th>\n",
       "      <th>Text</th>\n",
       "      <th>geometry</th>\n",
       "    </tr>\n",
       "  </thead>\n",
       "  <tbody>\n",
       "    <tr>\n",
       "      <th>0</th>\n",
       "      <td>PASSAGEM SANTOS DIAS DA SILVA - DJI_0042</td>\n",
       "      <td>None</td>\n",
       "      <td>AcDbEntity:AcDbPolyline</td>\n",
       "      <td>Continuous</td>\n",
       "      <td>2A3</td>\n",
       "      <td>None</td>\n",
       "      <td>LINESTRING (338840.785 7373796.688, 338840.863...</td>\n",
       "    </tr>\n",
       "    <tr>\n",
       "      <th>1</th>\n",
       "      <td>RUA NEUCI LOPES DE FREITAS - DJI_0044</td>\n",
       "      <td>None</td>\n",
       "      <td>AcDbEntity:AcDbPolyline</td>\n",
       "      <td>Continuous</td>\n",
       "      <td>2A4</td>\n",
       "      <td>None</td>\n",
       "      <td>LINESTRING (338677.610 7373952.708, 338692.796...</td>\n",
       "    </tr>\n",
       "    <tr>\n",
       "      <th>2</th>\n",
       "      <td>RUA AÃUCENA - DJI_0045</td>\n",
       "      <td>None</td>\n",
       "      <td>AcDbEntity:AcDbPolyline</td>\n",
       "      <td>Continuous</td>\n",
       "      <td>2A5</td>\n",
       "      <td>None</td>\n",
       "      <td>LINESTRING (338963.979 7373989.518, 338891.754...</td>\n",
       "    </tr>\n",
       "    <tr>\n",
       "      <th>3</th>\n",
       "      <td>RUA SAMUEL PEREIRA DOS SANTOS - DJI_0046</td>\n",
       "      <td>None</td>\n",
       "      <td>AcDbEntity:AcDbPolyline</td>\n",
       "      <td>Continuous</td>\n",
       "      <td>2A6</td>\n",
       "      <td>None</td>\n",
       "      <td>LINESTRING (338958.751 7373949.313, 338691.132...</td>\n",
       "    </tr>\n",
       "    <tr>\n",
       "      <th>4</th>\n",
       "      <td>RUA UNIÃO DAS VILAS - DJI_0047</td>\n",
       "      <td>None</td>\n",
       "      <td>AcDbEntity:AcDbPolyline</td>\n",
       "      <td>Continuous</td>\n",
       "      <td>2A7</td>\n",
       "      <td>None</td>\n",
       "      <td>LINESTRING (338953.422 7373908.336, 338700.584...</td>\n",
       "    </tr>\n",
       "    <tr>\n",
       "      <th>5</th>\n",
       "      <td>RUA CARLOS CÃSAR DE CARVALHO - DJI_0048</td>\n",
       "      <td>None</td>\n",
       "      <td>AcDbEntity:AcDbPolyline</td>\n",
       "      <td>Continuous</td>\n",
       "      <td>2A8</td>\n",
       "      <td>None</td>\n",
       "      <td>LINESTRING (338716.893 7373804.909, 338730.144...</td>\n",
       "    </tr>\n",
       "    <tr>\n",
       "      <th>6</th>\n",
       "      <td>RUA FREI TITO DE ALENCAR LIMA - DJI_0049</td>\n",
       "      <td>None</td>\n",
       "      <td>AcDbEntity:AcDbPolyline</td>\n",
       "      <td>Continuous</td>\n",
       "      <td>2A9</td>\n",
       "      <td>None</td>\n",
       "      <td>LINESTRING (338702.429 7373757.754, 338730.051...</td>\n",
       "    </tr>\n",
       "    <tr>\n",
       "      <th>7</th>\n",
       "      <td>RUA IÃDA LUIZA DE SOUZA - DJI_0043</td>\n",
       "      <td>None</td>\n",
       "      <td>AcDbEntity:AcDbPolyline</td>\n",
       "      <td>Continuous</td>\n",
       "      <td>2AA</td>\n",
       "      <td>None</td>\n",
       "      <td>LINESTRING (338730.219 7373765.341, 338727.828...</td>\n",
       "    </tr>\n",
       "  </tbody>\n",
       "</table>\n",
       "</div>"
      ],
      "text/plain": [
       "                                      Layer PaperSpace  \\\n",
       "0  PASSAGEM SANTOS DIAS DA SILVA - DJI_0042       None   \n",
       "1     RUA NEUCI LOPES DE FREITAS - DJI_0044       None   \n",
       "2                   RUA AÃUCENA - DJI_0045       None   \n",
       "3  RUA SAMUEL PEREIRA DOS SANTOS - DJI_0046       None   \n",
       "4           RUA UNIÃO DAS VILAS - DJI_0047       None   \n",
       "5  RUA CARLOS CÃSAR DE CARVALHO - DJI_0048       None   \n",
       "6  RUA FREI TITO DE ALENCAR LIMA - DJI_0049       None   \n",
       "7       RUA IÃDA LUIZA DE SOUZA - DJI_0043       None   \n",
       "\n",
       "                SubClasses    Linetype EntityHandle  Text  \\\n",
       "0  AcDbEntity:AcDbPolyline  Continuous          2A3  None   \n",
       "1  AcDbEntity:AcDbPolyline  Continuous          2A4  None   \n",
       "2  AcDbEntity:AcDbPolyline  Continuous          2A5  None   \n",
       "3  AcDbEntity:AcDbPolyline  Continuous          2A6  None   \n",
       "4  AcDbEntity:AcDbPolyline  Continuous          2A7  None   \n",
       "5  AcDbEntity:AcDbPolyline  Continuous          2A8  None   \n",
       "6  AcDbEntity:AcDbPolyline  Continuous          2A9  None   \n",
       "7  AcDbEntity:AcDbPolyline  Continuous          2AA  None   \n",
       "\n",
       "                                            geometry  \n",
       "0  LINESTRING (338840.785 7373796.688, 338840.863...  \n",
       "1  LINESTRING (338677.610 7373952.708, 338692.796...  \n",
       "2  LINESTRING (338963.979 7373989.518, 338891.754...  \n",
       "3  LINESTRING (338958.751 7373949.313, 338691.132...  \n",
       "4  LINESTRING (338953.422 7373908.336, 338700.584...  \n",
       "5  LINESTRING (338716.893 7373804.909, 338730.144...  \n",
       "6  LINESTRING (338702.429 7373757.754, 338730.051...  \n",
       "7  LINESTRING (338730.219 7373765.341, 338727.828...  "
      ]
     },
     "execution_count": 79,
     "metadata": {},
     "output_type": "execute_result"
    }
   ],
   "source": [
    "gdf_dxf2"
   ]
  },
  {
   "cell_type": "code",
   "execution_count": 80,
   "metadata": {},
   "outputs": [],
   "source": [
    "gdf_dxf = gpd.GeoDataFrame(pd.concat([gdf_dxf, gdf_dxf2]).reset_index().drop('index', axis=1))"
   ]
  },
  {
   "cell_type": "code",
   "execution_count": 81,
   "metadata": {},
   "outputs": [
    {
     "data": {
      "text/plain": [
       "<AxesSubplot:>"
      ]
     },
     "execution_count": 81,
     "metadata": {},
     "output_type": "execute_result"
    },
    {
     "data": {
      "image/png": "[encoded data removed]",
      "text/plain": [
       "<Figure size 432x288 with 1 Axes>"
      ]
     },
     "metadata": {
      "needs_background": "light"
     },
     "output_type": "display_data"
    }
   ],
   "source": [
    "gdf_dxf.plot()"
   ]
  },
  {
   "cell_type": "code",
   "execution_count": 82,
   "metadata": {},
   "outputs": [],
   "source": [
    "gdf_dxf['logradouro'] = gdf_dxf.Layer.str.encode(encoding='raw_unicode_escape').str.decode(encoding='utf-8').str[0:-11]"
   ]
  },
  {
   "cell_type": "code",
   "execution_count": 83,
   "metadata": {},
   "outputs": [],
   "source": [
    "gdf_dxf['FileName'] = gdf_dxf.Layer.str.encode(encoding='raw_unicode_escape').str.decode(encoding='utf-8').str[-8:] + '.MOV'"
   ]
  },
  {
   "cell_type": "code",
   "execution_count": 84,
   "metadata": {},
   "outputs": [
    {
     "data": {
      "text/plain": [
       "Index(['Layer', 'PaperSpace', 'SubClasses', 'Linetype', 'EntityHandle', 'Text',\n",
       "       'geometry', 'logradouro', 'FileName'],\n",
       "      dtype='object')"
      ]
     },
     "execution_count": 84,
     "metadata": {},
     "output_type": "execute_result"
    }
   ],
   "source": [
    "gdf_dxf.columns"
   ]
  },
  {
   "cell_type": "code",
   "execution_count": 85,
   "metadata": {},
   "outputs": [],
   "source": [
    "gdf_dxf['path-arquivo'] = 'videos/' + gdf_dxf.FileName"
   ]
  },
  {
   "cell_type": "code",
   "execution_count": null,
   "metadata": {},
   "outputs": [],
   "source": []
  },
  {
   "cell_type": "code",
   "execution_count": 86,
   "metadata": {},
   "outputs": [],
   "source": [
    "links_file = open('./videos/link-videos.txt', 'r')\n",
    "l = []\n",
    "\n",
    "for line in links_file:\n",
    "    l.append([line[0:8].replace(' ', '_') + '.MOV', line[9:20]])"
   ]
  },
  {
   "cell_type": "code",
   "execution_count": null,
   "metadata": {},
   "outputs": [],
   "source": []
  },
  {
   "cell_type": "code",
   "execution_count": null,
   "metadata": {},
   "outputs": [],
   "source": []
  },
  {
   "cell_type": "code",
   "execution_count": 87,
   "metadata": {},
   "outputs": [],
   "source": [
    "gdf_dxf.set_index('FileName', inplace=True)"
   ]
  },
  {
   "cell_type": "code",
   "execution_count": 88,
   "metadata": {},
   "outputs": [],
   "source": [
    "gdf_dxf['YouTube-Link'] = pd.DataFrame(l, columns=['FileName', 'YouTube-Link']).set_index('FileName')['YouTube-Link']"
   ]
  },
  {
   "cell_type": "code",
   "execution_count": null,
   "metadata": {},
   "outputs": [],
   "source": []
  },
  {
   "cell_type": "code",
   "execution_count": null,
   "metadata": {},
   "outputs": [],
   "source": []
  },
  {
   "cell_type": "code",
   "execution_count": 89,
   "metadata": {},
   "outputs": [],
   "source": [
    "gdf_dxf['URL-YouTube'] = 'https://www.youtube.com/watch?v=' + gdf_dxf['YouTube-Link']"
   ]
  },
  {
   "cell_type": "code",
   "execution_count": 90,
   "metadata": {},
   "outputs": [
    {
     "data": {
      "text/plain": [
       "<AxesSubplot:>"
      ]
     },
     "execution_count": 90,
     "metadata": {},
     "output_type": "execute_result"
    },
    {
     "data": {
      "image/png": "[encoded data removed]",
      "text/plain": [
       "<Figure size 432x288 with 1 Axes>"
      ]
     },
     "metadata": {
      "needs_background": "light"
     },
     "output_type": "display_data"
    }
   ],
   "source": [
    "gdf_dxf.plot()"
   ]
  },
  {
   "cell_type": "code",
   "execution_count": 91,
   "metadata": {},
   "outputs": [],
   "source": [
    "gdf_dxf.drop(['Layer', 'PaperSpace', 'SubClasses', 'Linetype', 'EntityHandle', 'Text'], axis=1).to_file('./videos/linhas-de-voo-retificadas.gpkg', driver='GPKG')"
   ]
  },
  {
   "cell_type": "code",
   "execution_count": 93,
   "metadata": {},
   "outputs": [],
   "source": [
    "# gdf_dxf"
   ]
  },
  {
   "cell_type": "code",
   "execution_count": null,
   "metadata": {},
   "outputs": [],
   "source": []
  },
  {
   "cell_type": "code",
   "execution_count": null,
   "metadata": {},
   "outputs": [],
   "source": []
  }
 ],
 "metadata": {
  "kernelspec": {
   "display_name": "Python 3",
   "language": "python",
   "name": "python3"
  },
  "language_info": {
   "codemirror_mode": {
    "name": "ipython",
    "version": 3
   },
   "file_extension": ".py",
   "mimetype": "text/x-python",
   "name": "python",
   "nbconvert_exporter": "python",
   "pygments_lexer": "ipython3",
   "version": "3.8.3"
  }
 },
 "nbformat": 4,
 "nbformat_minor": 4
}
