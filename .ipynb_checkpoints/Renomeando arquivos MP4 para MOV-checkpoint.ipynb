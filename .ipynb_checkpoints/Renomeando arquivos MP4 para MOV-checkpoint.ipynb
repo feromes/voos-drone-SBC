{
 "cells": [
  {
   "cell_type": "code",
   "execution_count": 1,
   "metadata": {},
   "outputs": [],
   "source": [
    "import glob, os"
   ]
  },
  {
   "cell_type": "code",
   "execution_count": 5,
   "metadata": {},
   "outputs": [],
   "source": [
    "listOfFiles = []\n",
    "for (dirpath, dirnames, filenames) in os.walk('/media/fernando/MECATE1TB/videos'):\n",
    "    listOfFiles += [os.path.join(dirpath, file) for file in filenames]\n",
    "for elem in listOfFiles:\n",
    "    if elem[-3:] == 'MP4':\n",
    "#         os.rename(elem, elem[:-3]+'MOV')\n",
    "        print(elem)\n",
    "        print(elem[:-3]+'MOV')"
   ]
  },
  {
   "cell_type": "code",
   "execution_count": null,
   "metadata": {},
   "outputs": [],
   "source": []
  }
 ],
 "metadata": {
  "kernelspec": {
   "display_name": "Python 3",
   "language": "python",
   "name": "python3"
  },
  "language_info": {
   "codemirror_mode": {
    "name": "ipython",
    "version": 3
   },
   "file_extension": ".py",
   "mimetype": "text/x-python",
   "name": "python",
   "nbconvert_exporter": "python",
   "pygments_lexer": "ipython3",
   "version": "3.8.2"
  }
 },
 "nbformat": 4,
 "nbformat_minor": 4
}
