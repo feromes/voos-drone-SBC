{
 "cells": [
  {
   "cell_type": "code",
   "execution_count": 40,
   "metadata": {},
   "outputs": [],
   "source": [
    "import geopandas as gpd\n",
    "import pandas as pd"
   ]
  },
  {
   "cell_type": "code",
   "execution_count": 41,
   "metadata": {},
   "outputs": [],
   "source": [
    "gdf_dxf = gpd.read_file('GIS/bases-DXF/BALNEARIA EIXOS VIA.dxf', encoding='ANSI_1252')"
   ]
  },
  {
   "cell_type": "code",
   "execution_count": 42,
   "metadata": {},
   "outputs": [],
   "source": [
    "bairro = 'BALNEARIA'"
   ]
  },
  {
   "cell_type": "code",
   "execution_count": 43,
   "metadata": {},
   "outputs": [],
   "source": [
    "# gdf_dxf2 = gpd.read_file('GIS/bases-DXF/Bairro dos Casa.dxf', encoding='ANSI_1252')"
   ]
  },
  {
   "cell_type": "code",
   "execution_count": 44,
   "metadata": {},
   "outputs": [],
   "source": [
    "# gdf_dxf2.loc[gdf_dxf2.Layer == 'MCT - PASSAGEM SANTOS DIAS DA SILVA', 'Layer'] = 'PASSAGEM SANTOS DIAS DA SILVA - DJI_0042'"
   ]
  },
  {
   "cell_type": "code",
   "execution_count": 45,
   "metadata": {},
   "outputs": [
    {
     "data": {
      "text/html": [
       "<div>\n",
       "<style scoped>\n",
       "    .dataframe tbody tr th:only-of-type {\n",
       "        vertical-align: middle;\n",
       "    }\n",
       "\n",
       "    .dataframe tbody tr th {\n",
       "        vertical-align: top;\n",
       "    }\n",
       "\n",
       "    .dataframe thead th {\n",
       "        text-align: right;\n",
       "    }\n",
       "</style>\n",
       "<table border=\"1\" class=\"dataframe\">\n",
       "  <thead>\n",
       "    <tr style=\"text-align: right;\">\n",
       "      <th></th>\n",
       "      <th>Layer</th>\n",
       "      <th>PaperSpace</th>\n",
       "      <th>SubClasses</th>\n",
       "      <th>Linetype</th>\n",
       "      <th>EntityHandle</th>\n",
       "      <th>Text</th>\n",
       "      <th>geometry</th>\n",
       "    </tr>\n",
       "  </thead>\n",
       "  <tbody>\n",
       "    <tr>\n",
       "      <th>0</th>\n",
       "      <td>AVENIDA BALNEÃRIA - 29_12_20 - DJI_0032</td>\n",
       "      <td>None</td>\n",
       "      <td>AcDbEntity:AcDb2dPolyline</td>\n",
       "      <td>None</td>\n",
       "      <td>6F</td>\n",
       "      <td>None</td>\n",
       "      <td>LINESTRING Z (342823.761 7370822.653 0.000, 34...</td>\n",
       "    </tr>\n",
       "    <tr>\n",
       "      <th>1</th>\n",
       "      <td>RUA JOHAN DE ALCÃNTARA SILVA - 29_12_20 - DJI...</td>\n",
       "      <td>None</td>\n",
       "      <td>AcDbEntity:AcDb2dPolyline</td>\n",
       "      <td>None</td>\n",
       "      <td>74</td>\n",
       "      <td>None</td>\n",
       "      <td>LINESTRING Z (342729.170 7370805.590 0.000, 34...</td>\n",
       "    </tr>\n",
       "    <tr>\n",
       "      <th>2</th>\n",
       "      <td>RUA MUTUÃPE - 29_12_20 - DJI_0030</td>\n",
       "      <td>None</td>\n",
       "      <td>AcDbEntity:AcDb2dPolyline</td>\n",
       "      <td>None</td>\n",
       "      <td>F0</td>\n",
       "      <td>None</td>\n",
       "      <td>LINESTRING Z (342065.913 7370104.198 0.000, 34...</td>\n",
       "    </tr>\n",
       "    <tr>\n",
       "      <th>3</th>\n",
       "      <td>ESTRADA MARTIM AFONSO DE SOUZA - 29_12_20 - DJ...</td>\n",
       "      <td>None</td>\n",
       "      <td>AcDbEntity:AcDb2dPolyline</td>\n",
       "      <td>None</td>\n",
       "      <td>F5</td>\n",
       "      <td>None</td>\n",
       "      <td>LINESTRING Z (342021.277 7369702.265 0.000, 34...</td>\n",
       "    </tr>\n",
       "  </tbody>\n",
       "</table>\n",
       "</div>"
      ],
      "text/plain": [
       "                                               Layer PaperSpace  \\\n",
       "0           AVENIDA BALNEÃRIA - 29_12_20 - DJI_0032       None   \n",
       "1  RUA JOHAN DE ALCÃNTARA SILVA - 29_12_20 - DJI...       None   \n",
       "2                 RUA MUTUÃPE - 29_12_20 - DJI_0030       None   \n",
       "3  ESTRADA MARTIM AFONSO DE SOUZA - 29_12_20 - DJ...       None   \n",
       "\n",
       "                  SubClasses Linetype EntityHandle  Text  \\\n",
       "0  AcDbEntity:AcDb2dPolyline     None           6F  None   \n",
       "1  AcDbEntity:AcDb2dPolyline     None           74  None   \n",
       "2  AcDbEntity:AcDb2dPolyline     None           F0  None   \n",
       "3  AcDbEntity:AcDb2dPolyline     None           F5  None   \n",
       "\n",
       "                                            geometry  \n",
       "0  LINESTRING Z (342823.761 7370822.653 0.000, 34...  \n",
       "1  LINESTRING Z (342729.170 7370805.590 0.000, 34...  \n",
       "2  LINESTRING Z (342065.913 7370104.198 0.000, 34...  \n",
       "3  LINESTRING Z (342021.277 7369702.265 0.000, 34...  "
      ]
     },
     "execution_count": 45,
     "metadata": {},
     "output_type": "execute_result"
    }
   ],
   "source": [
    "gdf_dxf"
   ]
  },
  {
   "cell_type": "code",
   "execution_count": 46,
   "metadata": {},
   "outputs": [],
   "source": [
    "# gdf_dxf = gpd.GeoDataFrame(pd.concat([gdf_dxf, gdf_dxf2]).reset_index().drop('index', axis=1))"
   ]
  },
  {
   "cell_type": "code",
   "execution_count": 47,
   "metadata": {},
   "outputs": [],
   "source": [
    "# gdf_dxf.Layer.to_list()"
   ]
  },
  {
   "cell_type": "code",
   "execution_count": 48,
   "metadata": {},
   "outputs": [
    {
     "data": {
      "text/plain": [
       "<AxesSubplot:>"
      ]
     },
     "execution_count": 48,
     "metadata": {},
     "output_type": "execute_result"
    },
    {
     "data": {
      "image/png": "[encoded data removed]",
      "text/plain": [
       "<Figure size 432x288 with 1 Axes>"
      ]
     },
     "metadata": {
      "needs_background": "light"
     },
     "output_type": "display_data"
    }
   ],
   "source": [
    "gdf_dxf.plot()"
   ]
  },
  {
   "cell_type": "code",
   "execution_count": 49,
   "metadata": {},
   "outputs": [],
   "source": [
    "gdf_dxf['Layer'] = gdf_dxf.Layer.str.encode(encoding='raw_unicode_escape').str.decode(encoding='utf-8').str.replace('MCT - ', '')"
   ]
  },
  {
   "cell_type": "code",
   "execution_count": 50,
   "metadata": {},
   "outputs": [],
   "source": [
    "gdf_dxf['Layer'] = gdf_dxf.Layer.str.replace('MCT -', '')"
   ]
  },
  {
   "cell_type": "code",
   "execution_count": 51,
   "metadata": {},
   "outputs": [],
   "source": [
    "gdf_dxf['lista'] = gdf_dxf.Layer.str.split(' - ')"
   ]
  },
  {
   "cell_type": "code",
   "execution_count": 52,
   "metadata": {},
   "outputs": [],
   "source": [
    "gdf_dxf['DJI'] = gdf_dxf.Layer.str.findall('DJI_[0-9]{4}')"
   ]
  },
  {
   "cell_type": "code",
   "execution_count": 53,
   "metadata": {},
   "outputs": [],
   "source": [
    "# gdf_dxf['etapa'] = gdf_dxf.Layer.str.extract('(ETAPA [0-9]{1,2})')"
   ]
  },
  {
   "cell_type": "code",
   "execution_count": 54,
   "metadata": {},
   "outputs": [],
   "source": [
    "gdf_dxf['data_voo'] = gdf_dxf.Layer.str.extract('([0-9]{1,2}_[0-9]{2}_[0-9]{2})')"
   ]
  },
  {
   "cell_type": "code",
   "execution_count": 55,
   "metadata": {},
   "outputs": [],
   "source": [
    "gdf_dxf['logradouro'] = gdf_dxf.lista.apply(lambda x: x[0])"
   ]
  },
  {
   "cell_type": "code",
   "execution_count": null,
   "metadata": {},
   "outputs": [],
   "source": []
  },
  {
   "cell_type": "code",
   "execution_count": 56,
   "metadata": {
    "scrolled": true
   },
   "outputs": [
    {
     "data": {
      "text/plain": [
       "Series([], Name: Layer, dtype: object)"
      ]
     },
     "execution_count": 56,
     "metadata": {},
     "output_type": "execute_result"
    }
   ],
   "source": [
    "gdf_dxf.loc[gdf_dxf['data_voo'].isna(), 'Layer']"
   ]
  },
  {
   "cell_type": "code",
   "execution_count": 57,
   "metadata": {},
   "outputs": [
    {
     "data": {
      "text/html": [
       "<div>\n",
       "<style scoped>\n",
       "    .dataframe tbody tr th:only-of-type {\n",
       "        vertical-align: middle;\n",
       "    }\n",
       "\n",
       "    .dataframe tbody tr th {\n",
       "        vertical-align: top;\n",
       "    }\n",
       "\n",
       "    .dataframe thead th {\n",
       "        text-align: right;\n",
       "    }\n",
       "</style>\n",
       "<table border=\"1\" class=\"dataframe\">\n",
       "  <thead>\n",
       "    <tr style=\"text-align: right;\">\n",
       "      <th></th>\n",
       "      <th>0</th>\n",
       "      <th>1</th>\n",
       "      <th>2</th>\n",
       "      <th>3</th>\n",
       "      <th>4</th>\n",
       "      <th>5</th>\n",
       "      <th>6</th>\n",
       "      <th>7</th>\n",
       "      <th>8</th>\n",
       "      <th>9</th>\n",
       "    </tr>\n",
       "  </thead>\n",
       "  <tbody>\n",
       "    <tr>\n",
       "      <th>0</th>\n",
       "      <td>AVENIDA BALNEÁRIA -</td>\n",
       "      <td>29_12_20</td>\n",
       "      <td>None</td>\n",
       "      <td>-</td>\n",
       "      <td>None</td>\n",
       "      <td>DJI_0032</td>\n",
       "      <td></td>\n",
       "      <td>None</td>\n",
       "      <td>None</td>\n",
       "      <td>None</td>\n",
       "    </tr>\n",
       "    <tr>\n",
       "      <th>1</th>\n",
       "      <td>RUA JOHAN DE ALCÂNTARA SILVA -</td>\n",
       "      <td>29_12_20</td>\n",
       "      <td>None</td>\n",
       "      <td>-</td>\n",
       "      <td>None</td>\n",
       "      <td>DJI_0031</td>\n",
       "      <td></td>\n",
       "      <td>None</td>\n",
       "      <td>None</td>\n",
       "      <td>None</td>\n",
       "    </tr>\n",
       "    <tr>\n",
       "      <th>2</th>\n",
       "      <td>RUA MUTUÍPE -</td>\n",
       "      <td>29_12_20</td>\n",
       "      <td>None</td>\n",
       "      <td>-</td>\n",
       "      <td>None</td>\n",
       "      <td>DJI_0030</td>\n",
       "      <td></td>\n",
       "      <td>None</td>\n",
       "      <td>None</td>\n",
       "      <td>None</td>\n",
       "    </tr>\n",
       "    <tr>\n",
       "      <th>3</th>\n",
       "      <td>ESTRADA MARTIM AFONSO DE SOUZA -</td>\n",
       "      <td>29_12_20</td>\n",
       "      <td>None</td>\n",
       "      <td>-</td>\n",
       "      <td>None</td>\n",
       "      <td>DJI_0028</td>\n",
       "      <td>-</td>\n",
       "      <td>None</td>\n",
       "      <td>DJI_0029</td>\n",
       "      <td></td>\n",
       "    </tr>\n",
       "  </tbody>\n",
       "</table>\n",
       "</div>"
      ],
      "text/plain": [
       "                                   0         1     2    3     4         5  \\\n",
       "0               AVENIDA BALNEÁRIA -   29_12_20  None   -   None  DJI_0032   \n",
       "1    RUA JOHAN DE ALCÂNTARA SILVA -   29_12_20  None   -   None  DJI_0031   \n",
       "2                     RUA MUTUÍPE -   29_12_20  None   -   None  DJI_0030   \n",
       "3  ESTRADA MARTIM AFONSO DE SOUZA -   29_12_20  None   -   None  DJI_0028   \n",
       "\n",
       "     6     7         8     9  \n",
       "0       None      None  None  \n",
       "1       None      None  None  \n",
       "2       None      None  None  \n",
       "3   -   None  DJI_0029        "
      ]
     },
     "execution_count": 57,
     "metadata": {},
     "output_type": "execute_result"
    }
   ],
   "source": [
    "gdf_dxf.Layer.str.split('([0-9]{1,2}_[0-9]{2}_[0-9]{2})|(DJI_[0-9]{4})', expand=True)"
   ]
  },
  {
   "cell_type": "code",
   "execution_count": 58,
   "metadata": {},
   "outputs": [
    {
     "data": {
      "text/plain": [
       "array([' - '], dtype=object)"
      ]
     },
     "execution_count": 58,
     "metadata": {},
     "output_type": "execute_result"
    }
   ],
   "source": [
    "gdf_dxf.Layer.str.split('([0-9]{1,2}_[0-9]{2}_[0-9]{2})|(DJI_[0-9]{4})', expand=True)[3].unique()"
   ]
  },
  {
   "cell_type": "code",
   "execution_count": 59,
   "metadata": {},
   "outputs": [],
   "source": [
    "etapas = {\n",
    "    ' - ':'etapa_01'\n",
    "}"
   ]
  },
  {
   "cell_type": "code",
   "execution_count": 60,
   "metadata": {},
   "outputs": [
    {
     "data": {
      "text/plain": [
       "0    etapa_01\n",
       "1    etapa_01\n",
       "2    etapa_01\n",
       "3    etapa_01\n",
       "Name: 3, dtype: object"
      ]
     },
     "execution_count": 60,
     "metadata": {},
     "output_type": "execute_result"
    }
   ],
   "source": [
    "gdf_dxf.Layer.str.split('([0-9]{1,2}_[0-9]{2}_[0-9]{2})|(DJI_[0-9]{4})', expand=True)[3].map(etapas)"
   ]
  },
  {
   "cell_type": "code",
   "execution_count": 61,
   "metadata": {},
   "outputs": [],
   "source": [
    "gdf_dxf.loc[:, 'etapa'] = gdf_dxf.Layer.str.split('([0-9]{1,2}_[0-9]{2}_[0-9]{2})|(DJI_[0-9]{4})', expand=True)[3].map(etapas)"
   ]
  },
  {
   "cell_type": "code",
   "execution_count": 62,
   "metadata": {},
   "outputs": [
    {
     "data": {
      "text/plain": [
       "0    etapa_01\n",
       "1    etapa_01\n",
       "2    etapa_01\n",
       "3    etapa_01\n",
       "Name: etapa, dtype: object"
      ]
     },
     "execution_count": 62,
     "metadata": {},
     "output_type": "execute_result"
    }
   ],
   "source": [
    "gdf_dxf.loc[:, 'etapa']"
   ]
  },
  {
   "cell_type": "code",
   "execution_count": 63,
   "metadata": {},
   "outputs": [
    {
     "data": {
      "text/html": [
       "<div>\n",
       "<style scoped>\n",
       "    .dataframe tbody tr th:only-of-type {\n",
       "        vertical-align: middle;\n",
       "    }\n",
       "\n",
       "    .dataframe tbody tr th {\n",
       "        vertical-align: top;\n",
       "    }\n",
       "\n",
       "    .dataframe thead th {\n",
       "        text-align: right;\n",
       "    }\n",
       "</style>\n",
       "<table border=\"1\" class=\"dataframe\">\n",
       "  <thead>\n",
       "    <tr style=\"text-align: right;\">\n",
       "      <th></th>\n",
       "      <th>Layer</th>\n",
       "      <th>PaperSpace</th>\n",
       "      <th>SubClasses</th>\n",
       "      <th>Linetype</th>\n",
       "      <th>EntityHandle</th>\n",
       "      <th>Text</th>\n",
       "      <th>geometry</th>\n",
       "      <th>lista</th>\n",
       "      <th>DJI</th>\n",
       "      <th>data_voo</th>\n",
       "      <th>logradouro</th>\n",
       "      <th>etapa</th>\n",
       "    </tr>\n",
       "  </thead>\n",
       "  <tbody>\n",
       "    <tr>\n",
       "      <th>0</th>\n",
       "      <td>AVENIDA BALNEÁRIA - 29_12_20 - DJI_0032</td>\n",
       "      <td>None</td>\n",
       "      <td>AcDbEntity:AcDb2dPolyline</td>\n",
       "      <td>None</td>\n",
       "      <td>6F</td>\n",
       "      <td>None</td>\n",
       "      <td>LINESTRING Z (342823.761 7370822.653 0.000, 34...</td>\n",
       "      <td>[AVENIDA BALNEÁRIA, 29_12_20, DJI_0032]</td>\n",
       "      <td>[DJI_0032]</td>\n",
       "      <td>29_12_20</td>\n",
       "      <td>AVENIDA BALNEÁRIA</td>\n",
       "      <td>etapa_01</td>\n",
       "    </tr>\n",
       "    <tr>\n",
       "      <th>1</th>\n",
       "      <td>RUA JOHAN DE ALCÂNTARA SILVA - 29_12_20 - DJI_...</td>\n",
       "      <td>None</td>\n",
       "      <td>AcDbEntity:AcDb2dPolyline</td>\n",
       "      <td>None</td>\n",
       "      <td>74</td>\n",
       "      <td>None</td>\n",
       "      <td>LINESTRING Z (342729.170 7370805.590 0.000, 34...</td>\n",
       "      <td>[RUA JOHAN DE ALCÂNTARA SILVA, 29_12_20, DJI_0...</td>\n",
       "      <td>[DJI_0031]</td>\n",
       "      <td>29_12_20</td>\n",
       "      <td>RUA JOHAN DE ALCÂNTARA SILVA</td>\n",
       "      <td>etapa_01</td>\n",
       "    </tr>\n",
       "    <tr>\n",
       "      <th>2</th>\n",
       "      <td>RUA MUTUÍPE - 29_12_20 - DJI_0030</td>\n",
       "      <td>None</td>\n",
       "      <td>AcDbEntity:AcDb2dPolyline</td>\n",
       "      <td>None</td>\n",
       "      <td>F0</td>\n",
       "      <td>None</td>\n",
       "      <td>LINESTRING Z (342065.913 7370104.198 0.000, 34...</td>\n",
       "      <td>[RUA MUTUÍPE, 29_12_20, DJI_0030]</td>\n",
       "      <td>[DJI_0030]</td>\n",
       "      <td>29_12_20</td>\n",
       "      <td>RUA MUTUÍPE</td>\n",
       "      <td>etapa_01</td>\n",
       "    </tr>\n",
       "    <tr>\n",
       "      <th>3</th>\n",
       "      <td>ESTRADA MARTIM AFONSO DE SOUZA - 29_12_20 - DJ...</td>\n",
       "      <td>None</td>\n",
       "      <td>AcDbEntity:AcDb2dPolyline</td>\n",
       "      <td>None</td>\n",
       "      <td>F5</td>\n",
       "      <td>None</td>\n",
       "      <td>LINESTRING Z (342021.277 7369702.265 0.000, 34...</td>\n",
       "      <td>[ESTRADA MARTIM AFONSO DE SOUZA, 29_12_20, DJI...</td>\n",
       "      <td>[DJI_0028, DJI_0029]</td>\n",
       "      <td>29_12_20</td>\n",
       "      <td>ESTRADA MARTIM AFONSO DE SOUZA</td>\n",
       "      <td>etapa_01</td>\n",
       "    </tr>\n",
       "  </tbody>\n",
       "</table>\n",
       "</div>"
      ],
      "text/plain": [
       "                                               Layer PaperSpace  \\\n",
       "0            AVENIDA BALNEÁRIA - 29_12_20 - DJI_0032       None   \n",
       "1  RUA JOHAN DE ALCÂNTARA SILVA - 29_12_20 - DJI_...       None   \n",
       "2                  RUA MUTUÍPE - 29_12_20 - DJI_0030       None   \n",
       "3  ESTRADA MARTIM AFONSO DE SOUZA - 29_12_20 - DJ...       None   \n",
       "\n",
       "                  SubClasses Linetype EntityHandle  Text  \\\n",
       "0  AcDbEntity:AcDb2dPolyline     None           6F  None   \n",
       "1  AcDbEntity:AcDb2dPolyline     None           74  None   \n",
       "2  AcDbEntity:AcDb2dPolyline     None           F0  None   \n",
       "3  AcDbEntity:AcDb2dPolyline     None           F5  None   \n",
       "\n",
       "                                            geometry  \\\n",
       "0  LINESTRING Z (342823.761 7370822.653 0.000, 34...   \n",
       "1  LINESTRING Z (342729.170 7370805.590 0.000, 34...   \n",
       "2  LINESTRING Z (342065.913 7370104.198 0.000, 34...   \n",
       "3  LINESTRING Z (342021.277 7369702.265 0.000, 34...   \n",
       "\n",
       "                                               lista                   DJI  \\\n",
       "0            [AVENIDA BALNEÁRIA, 29_12_20, DJI_0032]            [DJI_0032]   \n",
       "1  [RUA JOHAN DE ALCÂNTARA SILVA, 29_12_20, DJI_0...            [DJI_0031]   \n",
       "2                  [RUA MUTUÍPE, 29_12_20, DJI_0030]            [DJI_0030]   \n",
       "3  [ESTRADA MARTIM AFONSO DE SOUZA, 29_12_20, DJI...  [DJI_0028, DJI_0029]   \n",
       "\n",
       "   data_voo                      logradouro     etapa  \n",
       "0  29_12_20               AVENIDA BALNEÁRIA  etapa_01  \n",
       "1  29_12_20    RUA JOHAN DE ALCÂNTARA SILVA  etapa_01  \n",
       "2  29_12_20                     RUA MUTUÍPE  etapa_01  \n",
       "3  29_12_20  ESTRADA MARTIM AFONSO DE SOUZA  etapa_01  "
      ]
     },
     "execution_count": 63,
     "metadata": {},
     "output_type": "execute_result"
    }
   ],
   "source": [
    "gdf_dxf"
   ]
  },
  {
   "cell_type": "code",
   "execution_count": 64,
   "metadata": {},
   "outputs": [],
   "source": [
    "pd_videos = pd.DataFrame(list(map(lambda x: \n",
    "         list(map(lambda y: y + '.MOV', x))\n",
    "         , gdf_dxf.DJI))).add_prefix('Video_')"
   ]
  },
  {
   "cell_type": "code",
   "execution_count": 65,
   "metadata": {},
   "outputs": [
    {
     "data": {
      "text/html": [
       "<div>\n",
       "<style scoped>\n",
       "    .dataframe tbody tr th:only-of-type {\n",
       "        vertical-align: middle;\n",
       "    }\n",
       "\n",
       "    .dataframe tbody tr th {\n",
       "        vertical-align: top;\n",
       "    }\n",
       "\n",
       "    .dataframe thead th {\n",
       "        text-align: right;\n",
       "    }\n",
       "</style>\n",
       "<table border=\"1\" class=\"dataframe\">\n",
       "  <thead>\n",
       "    <tr style=\"text-align: right;\">\n",
       "      <th></th>\n",
       "      <th>Video_0</th>\n",
       "      <th>Video_1</th>\n",
       "    </tr>\n",
       "  </thead>\n",
       "  <tbody>\n",
       "    <tr>\n",
       "      <th>0</th>\n",
       "      <td>DJI_0032.MOV</td>\n",
       "      <td>None</td>\n",
       "    </tr>\n",
       "    <tr>\n",
       "      <th>1</th>\n",
       "      <td>DJI_0031.MOV</td>\n",
       "      <td>None</td>\n",
       "    </tr>\n",
       "    <tr>\n",
       "      <th>2</th>\n",
       "      <td>DJI_0030.MOV</td>\n",
       "      <td>None</td>\n",
       "    </tr>\n",
       "    <tr>\n",
       "      <th>3</th>\n",
       "      <td>DJI_0028.MOV</td>\n",
       "      <td>DJI_0029.MOV</td>\n",
       "    </tr>\n",
       "  </tbody>\n",
       "</table>\n",
       "</div>"
      ],
      "text/plain": [
       "        Video_0       Video_1\n",
       "0  DJI_0032.MOV          None\n",
       "1  DJI_0031.MOV          None\n",
       "2  DJI_0030.MOV          None\n",
       "3  DJI_0028.MOV  DJI_0029.MOV"
      ]
     },
     "execution_count": 65,
     "metadata": {},
     "output_type": "execute_result"
    }
   ],
   "source": [
    "pd_videos"
   ]
  },
  {
   "cell_type": "code",
   "execution_count": 66,
   "metadata": {},
   "outputs": [],
   "source": [
    "gdf_dxf = gdf_dxf.merge(pd_videos, left_index=True, right_index=True)"
   ]
  },
  {
   "cell_type": "code",
   "execution_count": 67,
   "metadata": {},
   "outputs": [
    {
     "data": {
      "text/plain": [
       "Index(['Layer', 'PaperSpace', 'SubClasses', 'Linetype', 'EntityHandle', 'Text',\n",
       "       'geometry', 'lista', 'DJI', 'data_voo', 'logradouro', 'etapa',\n",
       "       'Video_0', 'Video_1'],\n",
       "      dtype='object')"
      ]
     },
     "execution_count": 67,
     "metadata": {},
     "output_type": "execute_result"
    }
   ],
   "source": [
    "gdf_dxf.columns"
   ]
  },
  {
   "cell_type": "code",
   "execution_count": 68,
   "metadata": {},
   "outputs": [],
   "source": [
    "gdf_dxf.loc[gdf_dxf.etapa.isna(), 'etapa'] = ''"
   ]
  },
  {
   "cell_type": "code",
   "execution_count": 69,
   "metadata": {},
   "outputs": [],
   "source": [
    "gdf_dxf.etapa = gdf_dxf.etapa.str.replace(' ', '_')"
   ]
  },
  {
   "cell_type": "code",
   "execution_count": 70,
   "metadata": {},
   "outputs": [],
   "source": [
    "gdf_dxf.loc[gdf_dxf.etapa != '', 'etapa'] += '/'"
   ]
  },
  {
   "cell_type": "code",
   "execution_count": 71,
   "metadata": {},
   "outputs": [],
   "source": [
    "gdf_dxf.loc[~gdf_dxf.data_voo.isna(), 'data_voo'] += '/'"
   ]
  },
  {
   "cell_type": "code",
   "execution_count": 72,
   "metadata": {},
   "outputs": [],
   "source": [
    "for c in gdf_dxf.loc[:, gdf_dxf.columns.str.startswith('Video')].columns:\n",
    "    gdf_dxf[c + '_path'] = 'videos/' + bairro.lower().replace('-', '_') + '/' + gdf_dxf.etapa + gdf_dxf[c]"
   ]
  },
  {
   "cell_type": "code",
   "execution_count": 73,
   "metadata": {},
   "outputs": [],
   "source": [
    "gdf_dxf = gdf_dxf.dissolve(by=['Layer'], aggfunc='first').reset_index()"
   ]
  },
  {
   "cell_type": "code",
   "execution_count": 74,
   "metadata": {},
   "outputs": [],
   "source": [
    "gdf_dxf.crs = 'epsg:31983'"
   ]
  },
  {
   "cell_type": "code",
   "execution_count": 75,
   "metadata": {},
   "outputs": [
    {
     "data": {
      "text/html": [
       "<div>\n",
       "<style scoped>\n",
       "    .dataframe tbody tr th:only-of-type {\n",
       "        vertical-align: middle;\n",
       "    }\n",
       "\n",
       "    .dataframe tbody tr th {\n",
       "        vertical-align: top;\n",
       "    }\n",
       "\n",
       "    .dataframe thead th {\n",
       "        text-align: right;\n",
       "    }\n",
       "</style>\n",
       "<table border=\"1\" class=\"dataframe\">\n",
       "  <thead>\n",
       "    <tr style=\"text-align: right;\">\n",
       "      <th></th>\n",
       "      <th>Layer</th>\n",
       "      <th>geometry</th>\n",
       "      <th>PaperSpace</th>\n",
       "      <th>SubClasses</th>\n",
       "      <th>Linetype</th>\n",
       "      <th>EntityHandle</th>\n",
       "      <th>Text</th>\n",
       "      <th>lista</th>\n",
       "      <th>DJI</th>\n",
       "      <th>data_voo</th>\n",
       "      <th>logradouro</th>\n",
       "      <th>etapa</th>\n",
       "      <th>Video_0</th>\n",
       "      <th>Video_1</th>\n",
       "      <th>Video_0_path</th>\n",
       "      <th>Video_1_path</th>\n",
       "    </tr>\n",
       "  </thead>\n",
       "  <tbody>\n",
       "    <tr>\n",
       "      <th>0</th>\n",
       "      <td>AVENIDA BALNEÁRIA - 29_12_20 - DJI_0032</td>\n",
       "      <td>LINESTRING Z (342823.761 7370822.653 0.000, 34...</td>\n",
       "      <td>None</td>\n",
       "      <td>AcDbEntity:AcDb2dPolyline</td>\n",
       "      <td>None</td>\n",
       "      <td>6F</td>\n",
       "      <td>None</td>\n",
       "      <td>[AVENIDA BALNEÁRIA, 29_12_20, DJI_0032]</td>\n",
       "      <td>[DJI_0032]</td>\n",
       "      <td>29_12_20/</td>\n",
       "      <td>AVENIDA BALNEÁRIA</td>\n",
       "      <td>etapa_01/</td>\n",
       "      <td>DJI_0032.MOV</td>\n",
       "      <td>None</td>\n",
       "      <td>videos/balnearia/etapa_01/DJI_0032.MOV</td>\n",
       "      <td>NaN</td>\n",
       "    </tr>\n",
       "    <tr>\n",
       "      <th>1</th>\n",
       "      <td>ESTRADA MARTIM AFONSO DE SOUZA - 29_12_20 - DJ...</td>\n",
       "      <td>LINESTRING Z (342021.277 7369702.265 0.000, 34...</td>\n",
       "      <td>None</td>\n",
       "      <td>AcDbEntity:AcDb2dPolyline</td>\n",
       "      <td>None</td>\n",
       "      <td>F5</td>\n",
       "      <td>None</td>\n",
       "      <td>[ESTRADA MARTIM AFONSO DE SOUZA, 29_12_20, DJI...</td>\n",
       "      <td>[DJI_0028, DJI_0029]</td>\n",
       "      <td>29_12_20/</td>\n",
       "      <td>ESTRADA MARTIM AFONSO DE SOUZA</td>\n",
       "      <td>etapa_01/</td>\n",
       "      <td>DJI_0028.MOV</td>\n",
       "      <td>DJI_0029.MOV</td>\n",
       "      <td>videos/balnearia/etapa_01/DJI_0028.MOV</td>\n",
       "      <td>videos/balnearia/etapa_01/DJI_0029.MOV</td>\n",
       "    </tr>\n",
       "    <tr>\n",
       "      <th>2</th>\n",
       "      <td>RUA JOHAN DE ALCÂNTARA SILVA - 29_12_20 - DJI_...</td>\n",
       "      <td>LINESTRING Z (342729.170 7370805.590 0.000, 34...</td>\n",
       "      <td>None</td>\n",
       "      <td>AcDbEntity:AcDb2dPolyline</td>\n",
       "      <td>None</td>\n",
       "      <td>74</td>\n",
       "      <td>None</td>\n",
       "      <td>[RUA JOHAN DE ALCÂNTARA SILVA, 29_12_20, DJI_0...</td>\n",
       "      <td>[DJI_0031]</td>\n",
       "      <td>29_12_20/</td>\n",
       "      <td>RUA JOHAN DE ALCÂNTARA SILVA</td>\n",
       "      <td>etapa_01/</td>\n",
       "      <td>DJI_0031.MOV</td>\n",
       "      <td>None</td>\n",
       "      <td>videos/balnearia/etapa_01/DJI_0031.MOV</td>\n",
       "      <td>NaN</td>\n",
       "    </tr>\n",
       "    <tr>\n",
       "      <th>3</th>\n",
       "      <td>RUA MUTUÍPE - 29_12_20 - DJI_0030</td>\n",
       "      <td>LINESTRING Z (342065.913 7370104.198 0.000, 34...</td>\n",
       "      <td>None</td>\n",
       "      <td>AcDbEntity:AcDb2dPolyline</td>\n",
       "      <td>None</td>\n",
       "      <td>F0</td>\n",
       "      <td>None</td>\n",
       "      <td>[RUA MUTUÍPE, 29_12_20, DJI_0030]</td>\n",
       "      <td>[DJI_0030]</td>\n",
       "      <td>29_12_20/</td>\n",
       "      <td>RUA MUTUÍPE</td>\n",
       "      <td>etapa_01/</td>\n",
       "      <td>DJI_0030.MOV</td>\n",
       "      <td>None</td>\n",
       "      <td>videos/balnearia/etapa_01/DJI_0030.MOV</td>\n",
       "      <td>NaN</td>\n",
       "    </tr>\n",
       "  </tbody>\n",
       "</table>\n",
       "</div>"
      ],
      "text/plain": [
       "                                               Layer  \\\n",
       "0            AVENIDA BALNEÁRIA - 29_12_20 - DJI_0032   \n",
       "1  ESTRADA MARTIM AFONSO DE SOUZA - 29_12_20 - DJ...   \n",
       "2  RUA JOHAN DE ALCÂNTARA SILVA - 29_12_20 - DJI_...   \n",
       "3                  RUA MUTUÍPE - 29_12_20 - DJI_0030   \n",
       "\n",
       "                                            geometry PaperSpace  \\\n",
       "0  LINESTRING Z (342823.761 7370822.653 0.000, 34...       None   \n",
       "1  LINESTRING Z (342021.277 7369702.265 0.000, 34...       None   \n",
       "2  LINESTRING Z (342729.170 7370805.590 0.000, 34...       None   \n",
       "3  LINESTRING Z (342065.913 7370104.198 0.000, 34...       None   \n",
       "\n",
       "                  SubClasses Linetype EntityHandle  Text  \\\n",
       "0  AcDbEntity:AcDb2dPolyline     None           6F  None   \n",
       "1  AcDbEntity:AcDb2dPolyline     None           F5  None   \n",
       "2  AcDbEntity:AcDb2dPolyline     None           74  None   \n",
       "3  AcDbEntity:AcDb2dPolyline     None           F0  None   \n",
       "\n",
       "                                               lista                   DJI  \\\n",
       "0            [AVENIDA BALNEÁRIA, 29_12_20, DJI_0032]            [DJI_0032]   \n",
       "1  [ESTRADA MARTIM AFONSO DE SOUZA, 29_12_20, DJI...  [DJI_0028, DJI_0029]   \n",
       "2  [RUA JOHAN DE ALCÂNTARA SILVA, 29_12_20, DJI_0...            [DJI_0031]   \n",
       "3                  [RUA MUTUÍPE, 29_12_20, DJI_0030]            [DJI_0030]   \n",
       "\n",
       "    data_voo                      logradouro      etapa       Video_0  \\\n",
       "0  29_12_20/               AVENIDA BALNEÁRIA  etapa_01/  DJI_0032.MOV   \n",
       "1  29_12_20/  ESTRADA MARTIM AFONSO DE SOUZA  etapa_01/  DJI_0028.MOV   \n",
       "2  29_12_20/    RUA JOHAN DE ALCÂNTARA SILVA  etapa_01/  DJI_0031.MOV   \n",
       "3  29_12_20/                     RUA MUTUÍPE  etapa_01/  DJI_0030.MOV   \n",
       "\n",
       "        Video_1                            Video_0_path  \\\n",
       "0          None  videos/balnearia/etapa_01/DJI_0032.MOV   \n",
       "1  DJI_0029.MOV  videos/balnearia/etapa_01/DJI_0028.MOV   \n",
       "2          None  videos/balnearia/etapa_01/DJI_0031.MOV   \n",
       "3          None  videos/balnearia/etapa_01/DJI_0030.MOV   \n",
       "\n",
       "                             Video_1_path  \n",
       "0                                     NaN  \n",
       "1  videos/balnearia/etapa_01/DJI_0029.MOV  \n",
       "2                                     NaN  \n",
       "3                                     NaN  "
      ]
     },
     "execution_count": 75,
     "metadata": {},
     "output_type": "execute_result"
    }
   ],
   "source": [
    "gdf_dxf"
   ]
  },
  {
   "cell_type": "code",
   "execution_count": null,
   "metadata": {},
   "outputs": [],
   "source": []
  },
  {
   "cell_type": "code",
   "execution_count": null,
   "metadata": {},
   "outputs": [],
   "source": []
  },
  {
   "cell_type": "code",
   "execution_count": 37,
   "metadata": {},
   "outputs": [
    {
     "data": {
      "text/html": [
       "<div>\n",
       "<style scoped>\n",
       "    .dataframe tbody tr th:only-of-type {\n",
       "        vertical-align: middle;\n",
       "    }\n",
       "\n",
       "    .dataframe tbody tr th {\n",
       "        vertical-align: top;\n",
       "    }\n",
       "\n",
       "    .dataframe thead th {\n",
       "        text-align: right;\n",
       "    }\n",
       "</style>\n",
       "<table border=\"1\" class=\"dataframe\">\n",
       "  <thead>\n",
       "    <tr style=\"text-align: right;\">\n",
       "      <th></th>\n",
       "      <th>geometry</th>\n",
       "      <th>data_voo</th>\n",
       "      <th>logradouro</th>\n",
       "      <th>etapa</th>\n",
       "      <th>Video_0</th>\n",
       "      <th>Video_1</th>\n",
       "      <th>Video_0_path</th>\n",
       "      <th>Video_1_path</th>\n",
       "    </tr>\n",
       "  </thead>\n",
       "  <tbody>\n",
       "    <tr>\n",
       "      <th>0</th>\n",
       "      <td>LINESTRING Z (342823.761 7370822.653 0.000, 34...</td>\n",
       "      <td>29_12_20/</td>\n",
       "      <td>AVENIDA BALNEÁRIA</td>\n",
       "      <td>etapa_01/</td>\n",
       "      <td>DJI_0032.MOV</td>\n",
       "      <td>None</td>\n",
       "      <td>videos/balnearia/29_12_20/etapa_01/DJI_0032.MOV</td>\n",
       "      <td>NaN</td>\n",
       "    </tr>\n",
       "    <tr>\n",
       "      <th>1</th>\n",
       "      <td>LINESTRING Z (342021.277 7369702.265 0.000, 34...</td>\n",
       "      <td>29_12_20/</td>\n",
       "      <td>ESTRADA MARTIM AFONSO DE SOUZA</td>\n",
       "      <td>etapa_01/</td>\n",
       "      <td>DJI_0028.MOV</td>\n",
       "      <td>DJI_0029.MOV</td>\n",
       "      <td>videos/balnearia/29_12_20/etapa_01/DJI_0028.MOV</td>\n",
       "      <td>videos/balnearia/29_12_20/etapa_01/DJI_0029.MOV</td>\n",
       "    </tr>\n",
       "    <tr>\n",
       "      <th>2</th>\n",
       "      <td>LINESTRING Z (342729.170 7370805.590 0.000, 34...</td>\n",
       "      <td>29_12_20/</td>\n",
       "      <td>RUA JOHAN DE ALCÂNTARA SILVA</td>\n",
       "      <td>etapa_01/</td>\n",
       "      <td>DJI_0031.MOV</td>\n",
       "      <td>None</td>\n",
       "      <td>videos/balnearia/29_12_20/etapa_01/DJI_0031.MOV</td>\n",
       "      <td>NaN</td>\n",
       "    </tr>\n",
       "    <tr>\n",
       "      <th>3</th>\n",
       "      <td>LINESTRING Z (342065.913 7370104.198 0.000, 34...</td>\n",
       "      <td>29_12_20/</td>\n",
       "      <td>RUA MUTUÍPE</td>\n",
       "      <td>etapa_01/</td>\n",
       "      <td>DJI_0030.MOV</td>\n",
       "      <td>None</td>\n",
       "      <td>videos/balnearia/29_12_20/etapa_01/DJI_0030.MOV</td>\n",
       "      <td>NaN</td>\n",
       "    </tr>\n",
       "  </tbody>\n",
       "</table>\n",
       "</div>"
      ],
      "text/plain": [
       "                                            geometry   data_voo  \\\n",
       "0  LINESTRING Z (342823.761 7370822.653 0.000, 34...  29_12_20/   \n",
       "1  LINESTRING Z (342021.277 7369702.265 0.000, 34...  29_12_20/   \n",
       "2  LINESTRING Z (342729.170 7370805.590 0.000, 34...  29_12_20/   \n",
       "3  LINESTRING Z (342065.913 7370104.198 0.000, 34...  29_12_20/   \n",
       "\n",
       "                       logradouro      etapa       Video_0       Video_1  \\\n",
       "0               AVENIDA BALNEÁRIA  etapa_01/  DJI_0032.MOV          None   \n",
       "1  ESTRADA MARTIM AFONSO DE SOUZA  etapa_01/  DJI_0028.MOV  DJI_0029.MOV   \n",
       "2    RUA JOHAN DE ALCÂNTARA SILVA  etapa_01/  DJI_0031.MOV          None   \n",
       "3                     RUA MUTUÍPE  etapa_01/  DJI_0030.MOV          None   \n",
       "\n",
       "                                      Video_0_path  \\\n",
       "0  videos/balnearia/29_12_20/etapa_01/DJI_0032.MOV   \n",
       "1  videos/balnearia/29_12_20/etapa_01/DJI_0028.MOV   \n",
       "2  videos/balnearia/29_12_20/etapa_01/DJI_0031.MOV   \n",
       "3  videos/balnearia/29_12_20/etapa_01/DJI_0030.MOV   \n",
       "\n",
       "                                      Video_1_path  \n",
       "0                                              NaN  \n",
       "1  videos/balnearia/29_12_20/etapa_01/DJI_0029.MOV  \n",
       "2                                              NaN  \n",
       "3                                              NaN  "
      ]
     },
     "execution_count": 37,
     "metadata": {},
     "output_type": "execute_result"
    }
   ],
   "source": [
    "gdf_dxf.drop(['Layer', 'PaperSpace', 'SubClasses', 'Linetype', 'EntityHandle', 'Text', 'DJI', 'lista'], axis=1)"
   ]
  },
  {
   "cell_type": "code",
   "execution_count": 38,
   "metadata": {},
   "outputs": [],
   "source": [
    "gdf_dxf.drop(['Layer', 'PaperSpace', 'SubClasses', 'Linetype', 'EntityHandle', 'Text', 'DJI', 'lista'], axis=1).to_file(f'./videos/ruas-videos-{bairro}-PROSAB.gpkg', driver='GPKG')"
   ]
  },
  {
   "cell_type": "code",
   "execution_count": 39,
   "metadata": {},
   "outputs": [
    {
     "data": {
      "text/plain": [
       "Layer             object\n",
       "geometry        geometry\n",
       "PaperSpace        object\n",
       "SubClasses        object\n",
       "Linetype          object\n",
       "EntityHandle      object\n",
       "Text              object\n",
       "lista             object\n",
       "DJI               object\n",
       "data_voo          object\n",
       "logradouro        object\n",
       "etapa             object\n",
       "Video_0           object\n",
       "Video_1           object\n",
       "Video_0_path      object\n",
       "Video_1_path      object\n",
       "dtype: object"
      ]
     },
     "execution_count": 39,
     "metadata": {},
     "output_type": "execute_result"
    }
   ],
   "source": [
    "gdf_dxf.dtypes"
   ]
  },
  {
   "cell_type": "code",
   "execution_count": null,
   "metadata": {},
   "outputs": [],
   "source": []
  },
  {
   "cell_type": "code",
   "execution_count": null,
   "metadata": {},
   "outputs": [],
   "source": []
  }
 ],
 "metadata": {
  "kernelspec": {
   "display_name": "Python 3",
   "language": "python",
   "name": "python3"
  },
  "language_info": {
   "codemirror_mode": {
    "name": "ipython",
    "version": 3
   },
   "file_extension": ".py",
   "mimetype": "text/x-python",
   "name": "python",
   "nbconvert_exporter": "python",
   "pygments_lexer": "ipython3",
   "version": "3.8.3"
  }
 },
 "nbformat": 4,
 "nbformat_minor": 4
}
